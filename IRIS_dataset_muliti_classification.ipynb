{
  "nbformat": 4,
  "nbformat_minor": 0,
  "metadata": {
    "colab": {
      "name": "IRIS dataset muliti classification.ipynb",
      "provenance": [],
      "collapsed_sections": []
    },
    "kernelspec": {
      "name": "python3",
      "display_name": "Python 3"
    }
  },
  "cells": [
    {
      "cell_type": "code",
      "metadata": {
        "id": "PHYxrfpjHsT-"
      },
      "source": [
        "#multiclass classification problem in Deep learning  : use dataset iris.csv\n",
        "#classification means to predict the class\n",
        "#here there are multiple class which want to predict means more than 2 classes"
      ],
      "execution_count": null,
      "outputs": []
    },
    {
      "cell_type": "code",
      "metadata": {
        "id": "yF55THsaJhKN"
      },
      "source": [
        "import numpy as np\n",
        "import pandas as pd\n",
        "import matplotlib.pyplot as plt\n",
        "import tensorflow as tf"
      ],
      "execution_count": null,
      "outputs": []
    },
    {
      "cell_type": "code",
      "metadata": {
        "id": "3MXD-GSyKJcF"
      },
      "source": [
        "df=pd.read_csv(\"/content/drive/MyDrive/deep learning /iris.csv\")"
      ],
      "execution_count": null,
      "outputs": []
    },
    {
      "cell_type": "code",
      "metadata": {
        "colab": {
          "base_uri": "https://localhost:8080/",
          "height": 204
        },
        "id": "tlTUpynCKRJN",
        "outputId": "bdf4d590-cbda-4a1f-c9f3-144c9be86baf"
      },
      "source": [
        "df.head()"
      ],
      "execution_count": null,
      "outputs": [
        {
          "output_type": "execute_result",
          "data": {
            "text/html": [
              "<div>\n",
              "<style scoped>\n",
              "    .dataframe tbody tr th:only-of-type {\n",
              "        vertical-align: middle;\n",
              "    }\n",
              "\n",
              "    .dataframe tbody tr th {\n",
              "        vertical-align: top;\n",
              "    }\n",
              "\n",
              "    .dataframe thead th {\n",
              "        text-align: right;\n",
              "    }\n",
              "</style>\n",
              "<table border=\"1\" class=\"dataframe\">\n",
              "  <thead>\n",
              "    <tr style=\"text-align: right;\">\n",
              "      <th></th>\n",
              "      <th>sepal_length</th>\n",
              "      <th>sepal_width</th>\n",
              "      <th>petal_length</th>\n",
              "      <th>petal_width</th>\n",
              "      <th>species</th>\n",
              "    </tr>\n",
              "  </thead>\n",
              "  <tbody>\n",
              "    <tr>\n",
              "      <th>0</th>\n",
              "      <td>5.1</td>\n",
              "      <td>3.5</td>\n",
              "      <td>1.4</td>\n",
              "      <td>0.2</td>\n",
              "      <td>Iris-setosa</td>\n",
              "    </tr>\n",
              "    <tr>\n",
              "      <th>1</th>\n",
              "      <td>4.9</td>\n",
              "      <td>3.0</td>\n",
              "      <td>1.4</td>\n",
              "      <td>0.2</td>\n",
              "      <td>Iris-setosa</td>\n",
              "    </tr>\n",
              "    <tr>\n",
              "      <th>2</th>\n",
              "      <td>4.7</td>\n",
              "      <td>3.2</td>\n",
              "      <td>1.3</td>\n",
              "      <td>0.2</td>\n",
              "      <td>Iris-setosa</td>\n",
              "    </tr>\n",
              "    <tr>\n",
              "      <th>3</th>\n",
              "      <td>4.6</td>\n",
              "      <td>3.1</td>\n",
              "      <td>1.5</td>\n",
              "      <td>0.2</td>\n",
              "      <td>Iris-setosa</td>\n",
              "    </tr>\n",
              "    <tr>\n",
              "      <th>4</th>\n",
              "      <td>5.0</td>\n",
              "      <td>3.6</td>\n",
              "      <td>1.4</td>\n",
              "      <td>0.2</td>\n",
              "      <td>Iris-setosa</td>\n",
              "    </tr>\n",
              "  </tbody>\n",
              "</table>\n",
              "</div>"
            ],
            "text/plain": [
              "   sepal_length  sepal_width  petal_length  petal_width      species\n",
              "0           5.1          3.5           1.4          0.2  Iris-setosa\n",
              "1           4.9          3.0           1.4          0.2  Iris-setosa\n",
              "2           4.7          3.2           1.3          0.2  Iris-setosa\n",
              "3           4.6          3.1           1.5          0.2  Iris-setosa\n",
              "4           5.0          3.6           1.4          0.2  Iris-setosa"
            ]
          },
          "metadata": {
            "tags": []
          },
          "execution_count": 4
        }
      ]
    },
    {
      "cell_type": "code",
      "metadata": {
        "colab": {
          "base_uri": "https://localhost:8080/"
        },
        "id": "zozsq6O7K4D1",
        "outputId": "ad992fd3-1789-4d90-b63a-5648093f4190"
      },
      "source": [
        "#How many classes in species o/p column which want to predict\n",
        "df[\"species\"].unique()"
      ],
      "execution_count": null,
      "outputs": [
        {
          "output_type": "execute_result",
          "data": {
            "text/plain": [
              "array(['Iris-setosa', 'Iris-versicolor', 'Iris-virginica'], dtype=object)"
            ]
          },
          "metadata": {
            "tags": []
          },
          "execution_count": 5
        }
      ]
    },
    {
      "cell_type": "code",
      "metadata": {
        "colab": {
          "base_uri": "https://localhost:8080/"
        },
        "id": "usiDLPiJL7ou",
        "outputId": "81e750df-ff88-4fae-a31f-b1558236f06f"
      },
      "source": [
        "df[\"species\"].value_counts()"
      ],
      "execution_count": null,
      "outputs": [
        {
          "output_type": "execute_result",
          "data": {
            "text/plain": [
              "Iris-setosa        50\n",
              "Iris-virginica     50\n",
              "Iris-versicolor    50\n",
              "Name: species, dtype: int64"
            ]
          },
          "metadata": {
            "tags": []
          },
          "execution_count": 6
        }
      ]
    },
    {
      "cell_type": "code",
      "metadata": {
        "colab": {
          "base_uri": "https://localhost:8080/"
        },
        "id": "HqdCFx-nM1On",
        "outputId": "5b7256ab-e82a-4214-de47-b0364e9bf07f"
      },
      "source": [
        "df.shape"
      ],
      "execution_count": null,
      "outputs": [
        {
          "output_type": "execute_result",
          "data": {
            "text/plain": [
              "(150, 5)"
            ]
          },
          "metadata": {
            "tags": []
          },
          "execution_count": 7
        }
      ]
    },
    {
      "cell_type": "code",
      "metadata": {
        "colab": {
          "base_uri": "https://localhost:8080/"
        },
        "id": "CRAUbgrEM2AX",
        "outputId": "f332ee63-2f54-4213-a4fc-8f5b95051190"
      },
      "source": [
        "#here 3 classes which want to predict\n",
        "#check null values in dataset\n",
        "df.isnull().sum()"
      ],
      "execution_count": null,
      "outputs": [
        {
          "output_type": "execute_result",
          "data": {
            "text/plain": [
              "sepal_length    0\n",
              "sepal_width     0\n",
              "petal_length    0\n",
              "petal_width     0\n",
              "species         0\n",
              "dtype: int64"
            ]
          },
          "metadata": {
            "tags": []
          },
          "execution_count": 8
        }
      ]
    },
    {
      "cell_type": "code",
      "metadata": {
        "colab": {
          "base_uri": "https://localhost:8080/"
        },
        "id": "LI7w30BNNsun",
        "outputId": "da110d95-d5ca-46a4-d799-c6f84fa5c452"
      },
      "source": [
        "df.info()"
      ],
      "execution_count": null,
      "outputs": [
        {
          "output_type": "stream",
          "text": [
            "<class 'pandas.core.frame.DataFrame'>\n",
            "RangeIndex: 150 entries, 0 to 149\n",
            "Data columns (total 5 columns):\n",
            " #   Column        Non-Null Count  Dtype  \n",
            "---  ------        --------------  -----  \n",
            " 0   sepal_length  150 non-null    float64\n",
            " 1   sepal_width   150 non-null    float64\n",
            " 2   petal_length  150 non-null    float64\n",
            " 3   petal_width   150 non-null    float64\n",
            " 4   species       150 non-null    object \n",
            "dtypes: float64(4), object(1)\n",
            "memory usage: 6.0+ KB\n"
          ],
          "name": "stdout"
        }
      ]
    },
    {
      "cell_type": "code",
      "metadata": {
        "colab": {
          "base_uri": "https://localhost:8080/",
          "height": 359
        },
        "id": "dZBLSuB5OChA",
        "outputId": "b01b3544-9ca6-4a47-ce9f-ed4e4824948d"
      },
      "source": [
        "#apply LabelEncoder on o/p column species so call LabelEncoder class\n",
        "from sklearn.preprocessing import LabelEncoder\n",
        "\n",
        "#Create the object of LabelEncoder class\n",
        "le=LabelEncoder()\n",
        "df[\"species\"]=le.fit_transform(df[\"species\"])\n",
        "#check\n",
        "df.head(10)#first 10 records"
      ],
      "execution_count": null,
      "outputs": [
        {
          "output_type": "execute_result",
          "data": {
            "text/html": [
              "<div>\n",
              "<style scoped>\n",
              "    .dataframe tbody tr th:only-of-type {\n",
              "        vertical-align: middle;\n",
              "    }\n",
              "\n",
              "    .dataframe tbody tr th {\n",
              "        vertical-align: top;\n",
              "    }\n",
              "\n",
              "    .dataframe thead th {\n",
              "        text-align: right;\n",
              "    }\n",
              "</style>\n",
              "<table border=\"1\" class=\"dataframe\">\n",
              "  <thead>\n",
              "    <tr style=\"text-align: right;\">\n",
              "      <th></th>\n",
              "      <th>sepal_length</th>\n",
              "      <th>sepal_width</th>\n",
              "      <th>petal_length</th>\n",
              "      <th>petal_width</th>\n",
              "      <th>species</th>\n",
              "    </tr>\n",
              "  </thead>\n",
              "  <tbody>\n",
              "    <tr>\n",
              "      <th>0</th>\n",
              "      <td>5.1</td>\n",
              "      <td>3.5</td>\n",
              "      <td>1.4</td>\n",
              "      <td>0.2</td>\n",
              "      <td>0</td>\n",
              "    </tr>\n",
              "    <tr>\n",
              "      <th>1</th>\n",
              "      <td>4.9</td>\n",
              "      <td>3.0</td>\n",
              "      <td>1.4</td>\n",
              "      <td>0.2</td>\n",
              "      <td>0</td>\n",
              "    </tr>\n",
              "    <tr>\n",
              "      <th>2</th>\n",
              "      <td>4.7</td>\n",
              "      <td>3.2</td>\n",
              "      <td>1.3</td>\n",
              "      <td>0.2</td>\n",
              "      <td>0</td>\n",
              "    </tr>\n",
              "    <tr>\n",
              "      <th>3</th>\n",
              "      <td>4.6</td>\n",
              "      <td>3.1</td>\n",
              "      <td>1.5</td>\n",
              "      <td>0.2</td>\n",
              "      <td>0</td>\n",
              "    </tr>\n",
              "    <tr>\n",
              "      <th>4</th>\n",
              "      <td>5.0</td>\n",
              "      <td>3.6</td>\n",
              "      <td>1.4</td>\n",
              "      <td>0.2</td>\n",
              "      <td>0</td>\n",
              "    </tr>\n",
              "    <tr>\n",
              "      <th>5</th>\n",
              "      <td>5.4</td>\n",
              "      <td>3.9</td>\n",
              "      <td>1.7</td>\n",
              "      <td>0.4</td>\n",
              "      <td>0</td>\n",
              "    </tr>\n",
              "    <tr>\n",
              "      <th>6</th>\n",
              "      <td>4.6</td>\n",
              "      <td>3.4</td>\n",
              "      <td>1.4</td>\n",
              "      <td>0.3</td>\n",
              "      <td>0</td>\n",
              "    </tr>\n",
              "    <tr>\n",
              "      <th>7</th>\n",
              "      <td>5.0</td>\n",
              "      <td>3.4</td>\n",
              "      <td>1.5</td>\n",
              "      <td>0.2</td>\n",
              "      <td>0</td>\n",
              "    </tr>\n",
              "    <tr>\n",
              "      <th>8</th>\n",
              "      <td>4.4</td>\n",
              "      <td>2.9</td>\n",
              "      <td>1.4</td>\n",
              "      <td>0.2</td>\n",
              "      <td>0</td>\n",
              "    </tr>\n",
              "    <tr>\n",
              "      <th>9</th>\n",
              "      <td>4.9</td>\n",
              "      <td>3.1</td>\n",
              "      <td>1.5</td>\n",
              "      <td>0.1</td>\n",
              "      <td>0</td>\n",
              "    </tr>\n",
              "  </tbody>\n",
              "</table>\n",
              "</div>"
            ],
            "text/plain": [
              "   sepal_length  sepal_width  petal_length  petal_width  species\n",
              "0           5.1          3.5           1.4          0.2        0\n",
              "1           4.9          3.0           1.4          0.2        0\n",
              "2           4.7          3.2           1.3          0.2        0\n",
              "3           4.6          3.1           1.5          0.2        0\n",
              "4           5.0          3.6           1.4          0.2        0\n",
              "5           5.4          3.9           1.7          0.4        0\n",
              "6           4.6          3.4           1.4          0.3        0\n",
              "7           5.0          3.4           1.5          0.2        0\n",
              "8           4.4          2.9           1.4          0.2        0\n",
              "9           4.9          3.1           1.5          0.1        0"
            ]
          },
          "metadata": {
            "tags": []
          },
          "execution_count": 10
        }
      ]
    },
    {
      "cell_type": "code",
      "metadata": {
        "colab": {
          "base_uri": "https://localhost:8080/"
        },
        "id": "PcaOcWNUQAII",
        "outputId": "76818d68-c90c-493d-fda5-72c3371fdb66"
      },
      "source": [
        "df[\"species\"].value_counts()"
      ],
      "execution_count": null,
      "outputs": [
        {
          "output_type": "execute_result",
          "data": {
            "text/plain": [
              "2    50\n",
              "1    50\n",
              "0    50\n",
              "Name: species, dtype: int64"
            ]
          },
          "metadata": {
            "tags": []
          },
          "execution_count": 11
        }
      ]
    },
    {
      "cell_type": "code",
      "metadata": {
        "colab": {
          "base_uri": "https://localhost:8080/"
        },
        "id": "iKkf-QAHQG_4",
        "outputId": "75908808-85f3-4e03-bc5c-0e0954e367bf"
      },
      "source": [
        "df.info()"
      ],
      "execution_count": null,
      "outputs": [
        {
          "output_type": "stream",
          "text": [
            "<class 'pandas.core.frame.DataFrame'>\n",
            "RangeIndex: 150 entries, 0 to 149\n",
            "Data columns (total 5 columns):\n",
            " #   Column        Non-Null Count  Dtype  \n",
            "---  ------        --------------  -----  \n",
            " 0   sepal_length  150 non-null    float64\n",
            " 1   sepal_width   150 non-null    float64\n",
            " 2   petal_length  150 non-null    float64\n",
            " 3   petal_width   150 non-null    float64\n",
            " 4   species       150 non-null    int64  \n",
            "dtypes: float64(4), int64(1)\n",
            "memory usage: 6.0 KB\n"
          ],
          "name": "stdout"
        }
      ]
    },
    {
      "cell_type": "code",
      "metadata": {
        "id": "DLBScieYQKVJ"
      },
      "source": [
        "#separate Input features and target means output from dataset\n",
        "X=df.drop(\"species\",axis=1) #input features\n",
        "Y=df[\"species\"] #target means output variable"
      ],
      "execution_count": null,
      "outputs": []
    },
    {
      "cell_type": "code",
      "metadata": {
        "id": "JGtPmiiFQp1Z"
      },
      "source": [
        "#train_test_split : to divide data into 70% and 30% from dataset\n",
        "from sklearn.model_selection import train_test_split\n",
        "X_train,X_test,Y_train,Y_test=train_test_split(X,Y,test_size=0.3,random_state=1,stratify=Y)"
      ],
      "execution_count": null,
      "outputs": []
    },
    {
      "cell_type": "code",
      "metadata": {
        "colab": {
          "base_uri": "https://localhost:8080/"
        },
        "id": "i8xHIygGRj5Q",
        "outputId": "0e02f787-dd1b-4d05-fb9b-619365b90419"
      },
      "source": [
        "Y_test.value_counts()"
      ],
      "execution_count": null,
      "outputs": [
        {
          "output_type": "execute_result",
          "data": {
            "text/plain": [
              "2    15\n",
              "1    15\n",
              "0    15\n",
              "Name: species, dtype: int64"
            ]
          },
          "metadata": {
            "tags": []
          },
          "execution_count": 15
        }
      ]
    },
    {
      "cell_type": "code",
      "metadata": {
        "colab": {
          "base_uri": "https://localhost:8080/"
        },
        "id": "uPdC9YQESRa5",
        "outputId": "7a578fc1-651f-489b-bc39-f51cc5199311"
      },
      "source": [
        "Y_train.value_counts()"
      ],
      "execution_count": null,
      "outputs": [
        {
          "output_type": "execute_result",
          "data": {
            "text/plain": [
              "2    35\n",
              "1    35\n",
              "0    35\n",
              "Name: species, dtype: int64"
            ]
          },
          "metadata": {
            "tags": []
          },
          "execution_count": 16
        }
      ]
    },
    {
      "cell_type": "code",
      "metadata": {
        "id": "acb04-ePU4oc"
      },
      "source": [
        "#apply standardscaler on input features(X_train and X_test)\n",
        "from sklearn.preprocessing import StandardScaler"
      ],
      "execution_count": null,
      "outputs": []
    },
    {
      "cell_type": "code",
      "metadata": {
        "id": "BOKnaG_hU5ky"
      },
      "source": [
        "#create object of StandardScaler class\n",
        "ss=StandardScaler()\n",
        "X_train=ss.fit_transform(X_train)\n",
        "X_test=ss.transform(X_test)"
      ],
      "execution_count": null,
      "outputs": []
    },
    {
      "cell_type": "code",
      "metadata": {
        "colab": {
          "base_uri": "https://localhost:8080/"
        },
        "id": "FQx7zwZGU7aq",
        "outputId": "8bf76a08-2cf9-4237-ba27-430386da8808"
      },
      "source": [
        "X_train"
      ],
      "execution_count": null,
      "outputs": [
        {
          "output_type": "execute_result",
          "data": {
            "text/plain": [
              "array([[-0.4301064 ,  2.63118533, -1.33269725, -1.30380366],\n",
              "       [-0.55053619,  0.76918392, -1.16537974, -1.30380366],\n",
              "       [ 0.65376173,  0.30368356,  0.84243039,  1.44465434],\n",
              "       [ 1.0150511 ,  0.53643374,  1.0655204 ,  1.18289644],\n",
              "       [-1.03225536,  0.30368356, -1.44424226, -1.30380366],\n",
              "       [ 1.0150511 ,  0.07093339,  1.0097479 ,  1.57553329],\n",
              "       [ 2.09891923, -0.16181679,  1.56747294,  1.18289644],\n",
              "       [-0.06881702,  2.16568498, -1.44424226, -1.30380366],\n",
              "       [ 1.61720006, -0.16181679,  1.12129291,  0.52850167],\n",
              "       [ 0.89462131, -0.39456697,  0.45202286,  0.13586482],\n",
              "       [-1.03225536, -1.79106803, -0.27301968, -0.25677204],\n",
              "       [-0.79139578, -0.86006732,  0.06161534,  0.26674377],\n",
              "       [-1.39354474,  0.30368356, -1.38846976, -1.30380366],\n",
              "       [ 0.29247235, -0.62731714,  0.50779537,  0.00498586],\n",
              "       [-0.4301064 , -1.32556767,  0.11738784,  0.13586482],\n",
              "       [-0.06881702, -0.86006732,  0.73088538,  0.92113853],\n",
              "       [-1.27311494,  0.76918392, -1.05383474, -1.30380366],\n",
              "       [-1.03225536, -2.48931856, -0.16147468, -0.25677204],\n",
              "       [-0.06881702, -0.86006732,  0.06161534,  0.00498586],\n",
              "       [-1.39354474,  0.30368356, -1.22115225, -1.30380366],\n",
              "       [ 0.41290214, -0.62731714,  0.56356787,  0.79025958],\n",
              "       [ 2.21934902, -1.0928175 ,  1.73479045,  1.44465434],\n",
              "       [ 0.65376173,  0.30368356,  0.39625036,  0.39762272],\n",
              "       [-0.18924682, -0.62731714,  0.39625036,  0.13586482],\n",
              "       [-0.4301064 , -1.55831785,  0.00584283, -0.12589309],\n",
              "       [ 0.53333194,  0.76918392,  1.0097479 ,  1.57553329],\n",
              "       [ 0.29247235, -0.39456697,  0.50779537,  0.26674377],\n",
              "       [ 0.29247235, -1.0928175 ,  1.0097479 ,  0.26674377],\n",
              "       [ 0.77419152, -0.16181679,  1.12129291,  1.31377539],\n",
              "       [-0.06881702, -0.62731714,  0.73088538,  1.57553329],\n",
              "       [-0.18924682, -0.62731714,  0.17316034,  0.13586482],\n",
              "       [-0.91182557,  1.46743445, -1.27692475, -1.04204575],\n",
              "       [ 2.21934902,  1.70018463,  1.62324544,  1.31377539],\n",
              "       [ 0.53333194, -1.32556767,  0.67511288,  0.92113853],\n",
              "       [ 0.17204256, -0.16181679,  0.56356787,  0.79025958],\n",
              "       [ 0.65376173, -0.62731714,  1.0097479 ,  1.18289644],\n",
              "       [ 0.05161277, -0.16181679,  0.22893285,  0.39762272],\n",
              "       [ 2.21934902, -0.62731714,  1.62324544,  1.05201748],\n",
              "       [ 0.65376173,  0.07093339,  0.9539754 ,  0.79025958],\n",
              "       [-0.91182557,  1.70018463, -1.22115225, -1.30380366],\n",
              "       [ 0.53333194, -0.86006732,  0.61934037,  0.79025958],\n",
              "       [-0.79139578,  0.76918392, -1.33269725, -1.30380366],\n",
              "       [ 0.53333194, -0.62731714,  0.73088538,  0.39762272],\n",
              "       [-0.91182557,  1.70018463, -1.05383474, -1.04204575],\n",
              "       [-1.51397453,  1.23468427, -1.55578727, -1.30380366],\n",
              "       [ 0.53333194, -1.32556767,  0.61934037,  0.39762272],\n",
              "       [-1.15268515,  0.07093339, -1.27692475, -1.43468261],\n",
              "       [-1.8752639 , -0.16181679, -1.50001477, -1.43468261],\n",
              "       [ 0.77419152, -0.16181679,  0.9539754 ,  0.79025958],\n",
              "       [ 1.0150511 ,  0.07093339,  0.50779537,  0.39762272],\n",
              "       [-0.18924682,  1.70018463, -1.16537974, -1.17292471],\n",
              "       [-0.18924682, -1.0928175 , -0.16147468, -0.25677204],\n",
              "       [-0.06881702, -0.86006732,  0.17316034, -0.25677204],\n",
              "       [-0.91182557,  0.76918392, -1.27692475, -1.30380366],\n",
              "       [-0.55053619,  1.46743445, -1.27692475, -1.30380366],\n",
              "       [-0.79139578,  1.0019341 , -1.27692475, -1.30380366],\n",
              "       [-0.4301064 , -1.55831785, -0.04992967, -0.25677204],\n",
              "       [ 1.61720006,  1.23468427,  1.28861042,  1.70641225],\n",
              "       [-1.03225536,  1.0019341 , -1.38846976, -1.17292471],\n",
              "       [ 1.25591069,  0.07093339,  0.61934037,  0.39762272],\n",
              "       [-1.75483411, -0.16181679, -1.38846976, -1.30380366],\n",
              "       [ 0.17204256,  0.76918392,  0.39625036,  0.52850167],\n",
              "       [ 1.61720006,  0.30368356,  1.23283791,  0.79025958],\n",
              "       [-1.27311494,  0.07093339, -1.22115225, -1.30380366],\n",
              "       [-1.03225536,  0.53643374, -1.33269725, -1.30380366],\n",
              "       [-0.4301064 , -1.0928175 ,  0.34047786,  0.00498586],\n",
              "       [-0.06881702, -0.86006732,  0.73088538,  0.92113853],\n",
              "       [-0.30967661, -0.39456697, -0.10570217,  0.13586482],\n",
              "       [-0.30967661, -0.16181679,  0.17316034,  0.13586482],\n",
              "       [ 0.05161277,  0.30368356,  0.56356787,  0.79025958],\n",
              "       [ 2.21934902, -0.16181679,  1.28861042,  1.44465434],\n",
              "       [ 0.17204256, -0.39456697,  0.39625036,  0.39762272],\n",
              "       [-0.55053619, -0.16181679,  0.39625036,  0.39762272],\n",
              "       [ 1.25591069,  0.07093339,  0.89820289,  1.18289644],\n",
              "       [ 0.65376173, -0.62731714,  1.0097479 ,  1.31377539],\n",
              "       [ 0.29247235, -0.16181679,  0.45202286,  0.26674377],\n",
              "       [-0.55053619,  0.76918392, -1.27692475, -1.04204575],\n",
              "       [-0.91182557,  0.53643374, -1.16537974, -0.9111668 ],\n",
              "       [ 1.85805965, -0.62731714,  1.28861042,  0.92113853],\n",
              "       [ 0.17204256, -0.86006732,  0.73088538,  0.52850167],\n",
              "       [ 2.46020861,  1.70018463,  1.45592793,  1.05201748],\n",
              "       [ 0.17204256, -2.02381821,  0.67511288,  0.39762272],\n",
              "       [-0.67096598,  1.46743445, -1.27692475, -1.30380366],\n",
              "       [-0.18924682, -0.39456697,  0.22893285,  0.13586482],\n",
              "       [ 0.77419152,  0.30368356,  0.73088538,  1.05201748],\n",
              "       [ 0.53333194,  0.53643374,  1.23283791,  1.70641225],\n",
              "       [-0.91182557,  1.70018463, -1.27692475, -1.17292471],\n",
              "       [-1.03225536,  1.23468427, -1.33269725, -1.30380366],\n",
              "       [ 0.53333194, -0.39456697,  1.0097479 ,  0.79025958],\n",
              "       [-0.91182557,  1.0019341 , -1.33269725, -1.17292471],\n",
              "       [ 1.1354809 ,  0.30368356,  1.17706541,  1.44465434],\n",
              "       [-0.30967661, -1.32556767,  0.06161534, -0.12589309],\n",
              "       [-0.18924682, -0.16181679,  0.22893285,  0.00498586],\n",
              "       [ 0.41290214, -0.39456697,  0.28470535,  0.13586482],\n",
              "       [-0.79139578,  2.39843516, -1.27692475, -1.43468261],\n",
              "       [ 1.0150511 , -0.16181679,  0.78665788,  1.44465434],\n",
              "       [ 0.53333194, -1.79106803,  0.34047786,  0.13586482],\n",
              "       [-0.4301064 ,  1.0019341 , -1.38846976, -1.30380366],\n",
              "       [-1.27311494, -0.16181679, -1.33269725, -1.17292471],\n",
              "       [ 1.0150511 , -0.16181679,  0.67511288,  0.65938063],\n",
              "       [-1.63440432, -1.79106803, -1.38846976, -1.17292471],\n",
              "       [-0.06881702, -1.0928175 ,  0.11738784,  0.00498586],\n",
              "       [-1.03225536,  0.76918392, -1.22115225, -1.04204575],\n",
              "       [-1.51397453,  0.07093339, -1.27692475, -1.30380366],\n",
              "       [-1.75483411,  0.30368356, -1.38846976, -1.30380366]])"
            ]
          },
          "metadata": {
            "tags": []
          },
          "execution_count": 19
        }
      ]
    },
    {
      "cell_type": "code",
      "metadata": {
        "colab": {
          "base_uri": "https://localhost:8080/"
        },
        "id": "1Dny3qwiU9Qa",
        "outputId": "cdcf24b6-4252-4639-8a81-d9548012621e"
      },
      "source": [
        "X_test"
      ],
      "execution_count": null,
      "outputs": [
        {
          "output_type": "execute_result",
          "data": {
            "text/plain": [
              "array([[ 0.41290214,  0.76918392,  0.89820289,  1.44465434],\n",
              "       [-0.55053619,  1.9329348 , -1.16537974, -1.04204575],\n",
              "       [-1.51397453,  0.76918392, -1.33269725, -1.17292471],\n",
              "       [-1.15268515, -1.32556767,  0.39625036,  0.65938063],\n",
              "       [ 0.89462131, -0.16181679,  0.34047786,  0.26674377],\n",
              "       [ 0.29247235, -0.62731714,  0.11738784,  0.13586482],\n",
              "       [ 1.0150511 , -1.32556767,  1.12129291,  0.79025958],\n",
              "       [ 0.41290214, -2.02381821,  0.39625036,  0.39762272],\n",
              "       [ 0.65376173, -0.86006732,  0.84243039,  0.92113853],\n",
              "       [-0.55053619,  1.9329348 , -1.38846976, -1.04204575],\n",
              "       [-0.18924682,  3.09668569, -1.27692475, -1.04204575],\n",
              "       [ 0.29247235, -0.16181679,  0.61934037,  0.79025958],\n",
              "       [-1.75483411, -0.39456697, -1.33269725, -1.30380366],\n",
              "       [-1.15268515, -1.55831785, -0.27301968, -0.25677204],\n",
              "       [-1.51397453,  0.30368356, -1.33269725, -1.30380366],\n",
              "       [ 1.1354809 , -0.62731714,  0.56356787,  0.26674377],\n",
              "       [ 1.25591069,  0.07093339,  0.73088538,  1.44465434],\n",
              "       [-0.30967661, -0.16181679,  0.39625036,  0.39762272],\n",
              "       [ 0.65376173, -0.39456697,  0.28470535,  0.13586482],\n",
              "       [ 0.77419152, -0.16181679,  0.78665788,  1.05201748],\n",
              "       [ 1.49677027, -0.16181679,  1.17706541,  1.18289644],\n",
              "       [-1.27311494, -0.16181679, -1.33269725, -1.43468261],\n",
              "       [ 1.0150511 ,  0.07093339,  0.34047786,  0.26674377],\n",
              "       [-0.30967661, -0.62731714,  0.61934037,  1.05201748],\n",
              "       [-0.30967661, -0.86006732,  0.22893285,  0.13586482],\n",
              "       [ 0.53333194,  0.53643374,  0.50779537,  0.52850167],\n",
              "       [-0.91182557, -1.32556767, -0.4403372 , -0.12589309],\n",
              "       [ 1.0150511 ,  0.53643374,  1.0655204 ,  1.70641225],\n",
              "       [-1.03225536,  1.0019341 , -1.22115225, -0.78028785],\n",
              "       [-0.18924682, -1.32556767,  0.67511288,  1.05201748],\n",
              "       [-1.27311494,  0.76918392, -1.22115225, -1.30380366],\n",
              "       [-0.91182557,  1.0019341 , -1.33269725, -1.30380366],\n",
              "       [ 0.17204256, -2.02381821,  0.11738784, -0.25677204],\n",
              "       [-0.4301064 , -1.79106803,  0.11738784,  0.13586482],\n",
              "       [ 1.73762985, -0.39456697,  1.40015543,  0.79025958],\n",
              "       [ 1.1354809 , -0.16181679,  0.9539754 ,  1.18289644],\n",
              "       [-1.15268515,  0.07093339, -1.27692475, -1.43468261],\n",
              "       [-1.03225536, -0.16181679, -1.22115225, -1.30380366],\n",
              "       [-1.15268515, -0.16181679, -1.33269725, -1.30380366],\n",
              "       [ 1.37634048,  0.30368356,  0.50779537,  0.26674377],\n",
              "       [ 1.25591069,  0.30368356,  1.0655204 ,  1.44465434],\n",
              "       [ 0.05161277, -0.16181679,  0.73088538,  0.79025958],\n",
              "       [ 0.77419152, -0.62731714,  0.45202286,  0.39762272],\n",
              "       [-1.03225536,  0.76918392, -1.27692475, -1.30380366],\n",
              "       [-1.15268515,  0.07093339, -1.27692475, -1.43468261]])"
            ]
          },
          "metadata": {
            "tags": []
          },
          "execution_count": 20
        }
      ]
    },
    {
      "cell_type": "code",
      "metadata": {
        "id": "nmZYZd1TYXaX"
      },
      "source": [
        "#Create a neural network \n",
        "#create the object of Sequencial model \n",
        "model=tf.keras.Sequential([\n",
        "          tf.keras.layers.Dense(2,activation='relu',input_shape=(X.shape[1],)),\n",
        "          tf.keras.layers.Dense(3,activation='relu'),\n",
        "          tf.keras.layers.Dense(3,activation='softmax') #output layer unit of neuron=3              \n",
        "])"
      ],
      "execution_count": null,
      "outputs": []
    },
    {
      "cell_type": "code",
      "metadata": {
        "id": "mNncQbSWaoqG"
      },
      "source": [
        "#compile the model \n",
        "#optimizer='adam' if use multiclass in classification algo. and loss='sparse_crossentropy \n",
        "model.compile(optimizer=\"adam\", loss=\"sparse_categorical_crossentropy\")"
      ],
      "execution_count": null,
      "outputs": []
    },
    {
      "cell_type": "code",
      "metadata": {
        "colab": {
          "base_uri": "https://localhost:8080/"
        },
        "id": "3p-eeXqFbjf3",
        "outputId": "d6bffa70-bba7-4968-99aa-ccc69eaa60b4"
      },
      "source": [
        "#train the model , use fit() method\n",
        "trained_model=model.fit(X_train,Y_train,epochs=30, batch_size=10)"
      ],
      "execution_count": null,
      "outputs": [
        {
          "output_type": "stream",
          "text": [
            "Epoch 1/30\n",
            "11/11 [==============================] - 0s 1ms/step - loss: 1.1947\n",
            "Epoch 2/30\n",
            "11/11 [==============================] - 0s 1ms/step - loss: 1.1891\n",
            "Epoch 3/30\n",
            "11/11 [==============================] - 0s 1ms/step - loss: 1.1673\n",
            "Epoch 4/30\n",
            "11/11 [==============================] - 0s 2ms/step - loss: 1.1635\n",
            "Epoch 5/30\n",
            "11/11 [==============================] - 0s 1ms/step - loss: 1.1494\n",
            "Epoch 6/30\n",
            "11/11 [==============================] - 0s 1ms/step - loss: 1.1246\n",
            "Epoch 7/30\n",
            "11/11 [==============================] - 0s 1ms/step - loss: 1.1280\n",
            "Epoch 8/30\n",
            "11/11 [==============================] - 0s 1ms/step - loss: 1.1262\n",
            "Epoch 9/30\n",
            "11/11 [==============================] - 0s 1ms/step - loss: 1.1271\n",
            "Epoch 10/30\n",
            "11/11 [==============================] - 0s 1ms/step - loss: 1.0988\n",
            "Epoch 11/30\n",
            "11/11 [==============================] - 0s 1ms/step - loss: 1.1040\n",
            "Epoch 12/30\n",
            "11/11 [==============================] - 0s 1ms/step - loss: 1.0976\n",
            "Epoch 13/30\n",
            "11/11 [==============================] - 0s 1ms/step - loss: 1.0775\n",
            "Epoch 14/30\n",
            "11/11 [==============================] - 0s 2ms/step - loss: 1.0936\n",
            "Epoch 15/30\n",
            "11/11 [==============================] - 0s 2ms/step - loss: 1.0774\n",
            "Epoch 16/30\n",
            "11/11 [==============================] - 0s 2ms/step - loss: 1.0666\n",
            "Epoch 17/30\n",
            "11/11 [==============================] - 0s 1ms/step - loss: 1.0612\n",
            "Epoch 18/30\n",
            "11/11 [==============================] - 0s 2ms/step - loss: 1.0606\n",
            "Epoch 19/30\n",
            "11/11 [==============================] - 0s 1ms/step - loss: 1.0443\n",
            "Epoch 20/30\n",
            "11/11 [==============================] - 0s 1ms/step - loss: 1.0305\n",
            "Epoch 21/30\n",
            "11/11 [==============================] - 0s 2ms/step - loss: 1.0200\n",
            "Epoch 22/30\n",
            "11/11 [==============================] - 0s 2ms/step - loss: 1.0120\n",
            "Epoch 23/30\n",
            "11/11 [==============================] - 0s 2ms/step - loss: 1.0169\n",
            "Epoch 24/30\n",
            "11/11 [==============================] - 0s 1ms/step - loss: 1.0164\n",
            "Epoch 25/30\n",
            "11/11 [==============================] - 0s 1ms/step - loss: 0.9791\n",
            "Epoch 26/30\n",
            "11/11 [==============================] - 0s 1ms/step - loss: 1.0102\n",
            "Epoch 27/30\n",
            "11/11 [==============================] - 0s 2ms/step - loss: 0.9348\n",
            "Epoch 28/30\n",
            "11/11 [==============================] - 0s 1ms/step - loss: 1.0092\n",
            "Epoch 29/30\n",
            "11/11 [==============================] - 0s 2ms/step - loss: 0.9702\n",
            "Epoch 30/30\n",
            "11/11 [==============================] - 0s 1ms/step - loss: 0.9807\n"
          ],
          "name": "stdout"
        }
      ]
    },
    {
      "cell_type": "code",
      "metadata": {
        "id": "6qaOCcd1bl32"
      },
      "source": [
        "#testing the model\n",
        "Y_pred = model.predict(X_test)"
      ],
      "execution_count": null,
      "outputs": []
    },
    {
      "cell_type": "code",
      "metadata": {
        "colab": {
          "base_uri": "https://localhost:8080/"
        },
        "id": "7ljeJdOUeI2_",
        "outputId": "8a01439f-cb25-457d-80c7-345b192756bd"
      },
      "source": [
        "Y_pred"
      ],
      "execution_count": null,
      "outputs": [
        {
          "output_type": "execute_result",
          "data": {
            "text/plain": [
              "array([[0.20741563, 0.31790996, 0.47467443],\n",
              "       [0.33793008, 0.31919897, 0.34287098],\n",
              "       [0.33278129, 0.39412567, 0.27309304],\n",
              "       [0.2783052 , 0.50849044, 0.21320432],\n",
              "       [0.2111595 , 0.31819648, 0.47064406],\n",
              "       [0.3266957 , 0.31308347, 0.36022082],\n",
              "       [0.20537177, 0.31773838, 0.4768898 ],\n",
              "       [0.3273786 , 0.40793467, 0.2646867 ],\n",
              "       [0.2507714 , 0.31923714, 0.42999142],\n",
              "       [0.33793008, 0.31919897, 0.34287098],\n",
              "       [0.2558325 , 0.3191332 , 0.4250343 ],\n",
              "       [0.26667032, 0.3187485 , 0.41458112],\n",
              "       [0.28978407, 0.48842174, 0.2217942 ],\n",
              "       [0.27514756, 0.51401377, 0.21083863],\n",
              "       [0.32150936, 0.42258602, 0.25590464],\n",
              "       [0.19148314, 0.31627542, 0.49224135],\n",
              "       [0.17809954, 0.31433713, 0.5075633 ],\n",
              "       [0.3471775 , 0.35549656, 0.29732594],\n",
              "       [0.24644358, 0.31928644, 0.43427002],\n",
              "       [0.21249183, 0.3182899 , 0.46921825],\n",
              "       [0.13008511, 0.30203834, 0.5678766 ],\n",
              "       [0.31906477, 0.42859024, 0.25234506],\n",
              "       [0.18974043, 0.31605363, 0.49420592],\n",
              "       [0.33336413, 0.3926159 , 0.27401996],\n",
              "       [0.3316407 , 0.39706856, 0.27129072],\n",
              "       [0.20720208, 0.31789252, 0.47490537],\n",
              "       [0.29329106, 0.4822936 , 0.22441535],\n",
              "       [0.16177393, 0.31118107, 0.527045  ],\n",
              "       [0.34683818, 0.3419801 , 0.3111817 ],\n",
              "       [0.3199143 , 0.42650995, 0.2535758 ],\n",
              "       [0.34202623, 0.36966318, 0.28831065],\n",
              "       [0.34129232, 0.327379  , 0.33132872],\n",
              "       [0.3213739 , 0.42292017, 0.25570595],\n",
              "       [0.300682  , 0.4693836 , 0.22993441],\n",
              "       [0.10115769, 0.28904763, 0.60979474],\n",
              "       [0.17171647, 0.31321272, 0.51507086],\n",
              "       [0.32981673, 0.4017434 , 0.26843986],\n",
              "       [0.32769287, 0.40714014, 0.2651669 ],\n",
              "       [0.32292905, 0.41907325, 0.25799766],\n",
              "       [0.14019437, 0.30544576, 0.55435985],\n",
              "       [0.14483617, 0.30684692, 0.54831696],\n",
              "       [0.28924766, 0.3172833 , 0.39346907],\n",
              "       [0.24065056, 0.31929347, 0.4400559 ],\n",
              "       [0.34914482, 0.34855622, 0.30229896],\n",
              "       [0.32981676, 0.4017434 , 0.26843986]], dtype=float32)"
            ]
          },
          "metadata": {
            "tags": []
          },
          "execution_count": 25
        }
      ]
    },
    {
      "cell_type": "code",
      "metadata": {
        "colab": {
          "base_uri": "https://localhost:8080/"
        },
        "id": "K_ryVNvHfa0A",
        "outputId": "2906d9cb-4cee-4cc8-8e1b-b25ffc38f853"
      },
      "source": [
        "Y_pred = Y_pred.argmax(axis=1) #select highest probability of multiple class column wise\n",
        "#and hold in Y_pred\n",
        "#argmax : inbuilt method ,select highest prob. of multiple class\n",
        "Y_pred"
      ],
      "execution_count": null,
      "outputs": [
        {
          "output_type": "execute_result",
          "data": {
            "text/plain": [
              "array([2, 2, 1, 1, 2, 2, 2, 1, 2, 2, 2, 2, 1, 1, 1, 2, 2, 1, 2, 2, 2, 1,\n",
              "       2, 1, 1, 2, 1, 2, 0, 1, 1, 0, 1, 1, 2, 2, 1, 1, 1, 2, 2, 2, 2, 0,\n",
              "       1])"
            ]
          },
          "metadata": {
            "tags": []
          },
          "execution_count": 26
        }
      ]
    },
    {
      "cell_type": "code",
      "metadata": {
        "colab": {
          "base_uri": "https://localhost:8080/"
        },
        "id": "R4LjizwsgZuA",
        "outputId": "8356bdad-1fd4-49fa-8680-a91ab246c298"
      },
      "source": [
        "from sklearn.metrics import classification_report\n",
        "print(classification_report(Y_test,Y_pred))"
      ],
      "execution_count": null,
      "outputs": [
        {
          "output_type": "stream",
          "text": [
            "              precision    recall  f1-score   support\n",
            "\n",
            "           0       1.00      0.20      0.33        15\n",
            "           1       0.37      0.47      0.41        15\n",
            "           2       0.52      0.80      0.63        15\n",
            "\n",
            "    accuracy                           0.49        45\n",
            "   macro avg       0.63      0.49      0.46        45\n",
            "weighted avg       0.63      0.49      0.46        45\n",
            "\n"
          ],
          "name": "stdout"
        }
      ]
    },
    {
      "cell_type": "code",
      "metadata": {
        "id": "T8a2uBP_gcE4"
      },
      "source": [
        "#f1-score=2*R*P/(P+R) it is harmonic mean of recall and precision"
      ],
      "execution_count": null,
      "outputs": []
    },
    {
      "cell_type": "code",
      "metadata": {
        "id": "AVmU2eQ2iP65"
      },
      "source": [
        ""
      ],
      "execution_count": null,
      "outputs": []
    }
  ]
}